{
 "cells": [
  {
   "cell_type": "markdown",
   "id": "finite-rolling",
   "metadata": {},
   "source": [
    "## Import pakage"
   ]
  },
  {
   "cell_type": "code",
   "execution_count": null,
   "id": "satisfied-aerospace",
   "metadata": {},
   "outputs": [],
   "source": [
    "\n",
    "from keras.preprocessing.text import Tokenizer\n",
    "from keras.preprocessing.sequence import pad_sequences\n",
    "from keras.models import Sequential\n",
    "from keras.layers import Dense, Flatten, LSTM, Conv1D, MaxPooling1D, Dropout, Activation,SimpleRNN,Conv2D,MaxPooling2D\n",
    "from keras.layers.embeddings import Embedding\n",
    "import tensorflow as tf\n",
    "import keras\n",
    "# Others\n",
    "import nltk\n",
    "import string\n",
    "import numpy as np\n",
    "import pandas as pd\n",
    "from nltk.corpus import stopwords\n",
    "\n",
    "from sklearn.manifold import TSNE\n",
    "\n",
    "from tensorflow.keras.preprocessing.text import Tokenizer\n",
    "from tensorflow.keras.preprocessing.sequence import pad_sequences\n",
    "from tensorflow.keras.utils import to_categorical\n",
    "from tensorflow.keras.optimizers import Adam\n",
    "from tensorflow.keras.callbacks import EarlyStopping, ModelCheckpoint\n",
    "import numpy as np\n",
    "import pandas as pd"
   ]
  },
  {
   "cell_type": "code",
   "execution_count": null,
   "id": "absolute-elizabeth",
   "metadata": {},
   "outputs": [],
   "source": [
    "# Function to clean and normalize text\n",
    "def clean_text(text):\n",
    "    return text.encode('ascii', 'ignore').decode('ascii')\n",
    "\n",
    "\n",
    "\n",
    "\n",
    "def process_dataframe(df):\n",
    "    # Modify this based on the actual preprocessing steps needed from the notebook\n",
    "#     df['manually_label'] = df['manually_label'].map({'positive': 1, 'negative': 0})\n",
    "    \n",
    "    dic_list = []\n",
    "    for index,row in df.iterrows():\n",
    "        res = row['manually_label'] \n",
    "\n",
    "        if res == \"positive\":\n",
    "            row['manually_label'] = 1\n",
    "        elif res == \"negative\":\n",
    "            row['manually_label'] = 0\n",
    "\n",
    "        if res == '1.0':\n",
    "            row['manually_label'] = 1\n",
    "        elif res == '0.0':\n",
    "            row['manually_label'] = 0\n",
    "\n",
    "        if res == '1':\n",
    "            row['manually_label'] = 1\n",
    "        elif res == '0':\n",
    "            row['manually_label'] = 0\n",
    "\n",
    "        dic_list.append(row)\n",
    "    \n",
    "\n",
    "    \n",
    "    df_split = pd.DataFrame(dic_list)\n",
    "#     df_split = a\n",
    "\n",
    "    df_pos = df_split.loc[df_split['manually_label'] == 1]\n",
    "    df_neg = df_split.loc[df_split['manually_label'] == 0]\n",
    "    df_pos1 = df_split.loc[df_split['manually_label'] == '1']\n",
    "    df_neg1 = df_split.loc[df_split['manually_label'] == '0']\n",
    "\n",
    "    print(\"pos:{}, neg:{}\".format(df_pos.shape,df_neg.shape))\n",
    "    print(\"pos:{}, neg:{}\".format(df_pos1.shape,df_neg1.shape))\n",
    "    \n",
    "    df= pd.concat([df_pos,df_pos1, df_neg,df_neg1], ignore_index = True)\n",
    "    df['clean_message'] = df['clean_message'].astype(str)\n",
    "\n",
    "    df['clean_message'] = df['clean_message'].apply(clean_text)\n",
    "    \n",
    "    \n",
    "    return df"
   ]
  },
  {
   "cell_type": "markdown",
   "id": "romance-picnic",
   "metadata": {},
   "source": [
    "## Data Load"
   ]
  },
  {
   "cell_type": "code",
   "execution_count": null,
   "id": "failing-brain",
   "metadata": {},
   "outputs": [],
   "source": [
    "# Load data\n",
    "train_data = pd.read_csv('./train.csv',encoding='utf-8')\n",
    "test_data = pd.read_csv('./test.csv',encoding='utf-8')\n",
    "train_data =  process_dataframe(train_data)\n",
    "test_data =  process_dataframe(test_data)\n",
    "# Settings\n",
    "max_words = 10000 #len(tokenizer.word_index)# 10000  # vocabulary size\n",
    "max_len = 50       # max length of sequences\n",
    "\n",
    "\n",
    "# Tokenization\n",
    "tokenizer = Tokenizer(num_words=max_words)\n",
    "tokenizer.fit_on_texts(train_data['clean_message'])\n",
    "\n",
    "# Convert text to sequences\n",
    "train_sequences = tokenizer.texts_to_sequences(train_data['clean_message'])\n",
    "test_sequences = tokenizer.texts_to_sequences(test_data['clean_message'])\n",
    "\n",
    "# Pad sequences\n",
    "train_data_padded = pad_sequences(train_sequences, maxlen=max_len)\n",
    "test_data_padded = pad_sequences(test_sequences, maxlen=max_len)\n",
    "\n",
    "# Labels to categorical\n",
    "# Assuming 'manually_label' is a column with binary labels\n",
    "# train_labels = train_data['manually_label'].values\n",
    "# test_labels = test_data['manually_label'].values\n",
    "\n",
    "train_labels = to_categorical(np.asarray(train_data['manually_label']))\n",
    "test_labels = to_categorical(np.asarray(test_data['manually_label']))"
   ]
  },
  {
   "cell_type": "markdown",
   "id": "enclosed-flash",
   "metadata": {},
   "source": [
    "## Preprocessing"
   ]
  },
  {
   "cell_type": "code",
   "execution_count": null,
   "id": "french-browser",
   "metadata": {},
   "outputs": [],
   "source": [
    "from tensorflow.keras.preprocessing.text import Tokenizer\n",
    "from tensorflow.keras.preprocessing.sequence import pad_sequences\n",
    "from tensorflow.keras.utils import to_categorical\n",
    "import numpy as np\n",
    "import pandas as pd\n",
    "\n",
    "\n",
    "from gensim.models import KeyedVectors\n",
    "\n",
    "word2vec = KeyedVectors.load_word2vec_format(\"./Embeddings/GoogleNews-vectors-negative300.bin\",binary = True)\n",
    "\n",
    "word_index = tokenizer.word_index\n",
    "\n",
    "\n",
    "\n",
    "embedding_dim = word2vec.vector_size\n",
    "embedding_matrix = np.zeros((max_words, embedding_dim))\n",
    "\n",
    "\n",
    "\n",
    "for word in word_index:\n",
    "    if word in word2vec and word_index[word] < max_words:\n",
    "        embedding_matrix[word_index[word]] = word2vec[word]\n",
    "\n"
   ]
  },
  {
   "cell_type": "markdown",
   "id": "effective-sensitivity",
   "metadata": {},
   "source": [
    "## Model Hyperparameter setting"
   ]
  },
  {
   "cell_type": "code",
   "execution_count": null,
   "id": "returning-mauritius",
   "metadata": {},
   "outputs": [],
   "source": [
    "from tensorflow.keras.models import Sequential\n",
    "from tensorflow.keras.layers import Embedding, SimpleRNN, Dense\n",
    "from tensorflow.keras.optimizers import Adam\n",
    "from tensorflow.keras.callbacks import EarlyStopping, ModelCheckpoint\n",
    "\n",
    "max_words = 10000  # number of words to consider from the vocabulary\n",
    "max_len = 50       # maximum length of the input sequences\n"
   ]
  },
  {
   "cell_type": "markdown",
   "id": "optimum-italian",
   "metadata": {},
   "source": [
    "## Build and Complie Model"
   ]
  },
  {
   "cell_type": "code",
   "execution_count": null,
   "id": "massive-survivor",
   "metadata": {},
   "outputs": [],
   "source": [
    "\n",
    "model = Sequential([\n",
    "    Embedding(input_dim=max_words, output_dim=embedding_dim, input_length = max_len,\n",
    "                   weights = [embedding_matrix],\n",
    "                   mask_zero=True,\n",
    "                   trainable = False),\n",
    "    SimpleRNN(64),  # Simple RNN layer with 64 units\n",
    "    Dense(2, activation='softmax')  # Single output unit with sigmoid activation for binary classification\n",
    "])\n",
    "\n",
    "# Specify the learning rate\n",
    "learning_rate = 0.005  # Adjust as needed\n",
    "\n",
    "# Configure the optimizer with the desired learning rate\n",
    "adam_optimizer = Adam(learning_rate=learning_rate)\n",
    "\n",
    "# Compile the model with binary_crossentropy for the binary classification task\n",
    "model.compile(optimizer=adam_optimizer, loss='categorical_crossentropy', metrics=['accuracy'])\n",
    "\n",
    "model.summary()\n"
   ]
  },
  {
   "cell_type": "markdown",
   "id": "decreased-scenario",
   "metadata": {},
   "source": [
    "## Trainig Model"
   ]
  },
  {
   "cell_type": "code",
   "execution_count": null,
   "id": "allied-newsletter",
   "metadata": {
    "scrolled": true
   },
   "outputs": [],
   "source": [
    "earlystop_callback = EarlyStopping(monitor='val_accuracy', min_delta=0.001,patience=50)\n",
    "model.fit(train_data_padded, train_labels, batch_size=512, epochs=200, validation_split=0.2,\n",
    "          callbacks=[earlystop_callback])"
   ]
  },
  {
   "cell_type": "markdown",
   "id": "intimate-toyota",
   "metadata": {},
   "source": [
    "## Evaluate on Test Set"
   ]
  },
  {
   "cell_type": "code",
   "execution_count": null,
   "id": "variable-limitation",
   "metadata": {},
   "outputs": [],
   "source": [
    "# model.evaluate(test_data_padded, test_labels)\n",
    "from sklearn.metrics import accuracy_score, precision_score, recall_score, f1_score,classification_report\n",
    "from numpy import argmax\n",
    "\n",
    "# Predict probabilities for the positive class\n",
    "# test_predictions = model.predict(test_data_padded).ravel()  # flatten array to 1D if it's not already\n",
    "# test_predictions_classes = (test_predictions > 0.8).astype(int)  # Convert probabilities to class predictions\n",
    "# Predict classes\n",
    "test_predictions = model.predict(test_data_padded)\n",
    "test_predictions_classes = argmax(test_predictions, axis=1)\n",
    "test_true_classes = argmax(test_labels, axis=1)\n",
    "\n",
    "# Test labels should be in a flat array already if you prepared them for binary classification\n",
    "# test_true_classes = test_labels\n",
    "\n",
    "# Classification report\n",
    "report = classification_report(test_true_classes, test_predictions_classes)\n",
    "print(\"Classification Report:\\n\", report)\n",
    "\n",
    "# Calculate metrics\n",
    "accuracy = accuracy_score(test_true_classes, test_predictions_classes)\n",
    "precision = precision_score(test_true_classes, test_predictions_classes)\n",
    "recall = recall_score(test_true_classes, test_predictions_classes)\n",
    "f1 = f1_score(test_true_classes, test_predictions_classes)\n",
    "\n",
    "print(\"Accuracy:\", accuracy)\n",
    "print(\"Precision:\", precision)\n",
    "print(\"Recall:\", recall)\n",
    "print(\"F1 Score:\", f1)\n"
   ]
  },
  {
   "cell_type": "code",
   "execution_count": null,
   "id": "stretch-initial",
   "metadata": {},
   "outputs": [],
   "source": [
    "model.save('./data_out/icse/simple_rnn.h5')\n"
   ]
  },
  {
   "cell_type": "code",
   "execution_count": null,
   "id": "human-operator",
   "metadata": {},
   "outputs": [],
   "source": [
    "from tensorflow.keras.models import load_model\n",
    "\n",
    "# Load the entire model back.\n",
    "model = load_model('.//simple_rnn_model')"
   ]
  },
  {
   "cell_type": "code",
   "execution_count": null,
   "id": "respiratory-notice",
   "metadata": {},
   "outputs": [],
   "source": [
    "# model.evaluate(test_data_padded, test_labels)\n",
    "from sklearn.metrics import accuracy_score, precision_score, recall_score, f1_score\n",
    "from numpy import argmax\n",
    "\n",
    "# Predict probabilities for the positive class\n",
    "# test_predictions = model.predict(test_data_padded).ravel()  # flatten array to 1D if it's not already\n",
    "# test_predictions_classes = (test_predictions > 0.8).astype(int)  # Convert probabilities to class predictions\n",
    "# Predict classes\n",
    "test_predictions = model.predict(test_data_padded)\n",
    "test_predictions_classes = argmax(test_predictions, axis=1)\n",
    "test_true_classes = argmax(test_labels, axis=1)\n",
    "\n",
    "# Test labels should be in a flat array already if you prepared them for binary classification\n",
    "# test_true_classes = test_labels\n",
    "\n",
    "# Calculate metrics\n",
    "accuracy = accuracy_score(test_true_classes, test_predictions_classes)\n",
    "precision = precision_score(test_true_classes, test_predictions_classes)\n",
    "recall = recall_score(test_true_classes, test_predictions_classes)\n",
    "f1 = f1_score(test_true_classes, test_predictions_classes)\n",
    "\n",
    "print(\"Accuracy:\", accuracy)\n",
    "print(\"Precision:\", precision)\n",
    "print(\"Recall:\", recall)\n",
    "print(\"F1 Score:\", f1)\n"
   ]
  },
  {
   "cell_type": "code",
   "execution_count": null,
   "id": "critical-scenario",
   "metadata": {},
   "outputs": [],
   "source": [
    "from sklearn.metrics import confusion_matrix, classification_report\n",
    "comfmat = pd.DataFrame(confusion_matrix(test_true_classes, test_predictions_classes), index=['negative', 'positive'],columns=['negative', 'positive'])\n",
    "comfmat"
   ]
  },
  {
   "cell_type": "code",
   "execution_count": null,
   "id": "diagnostic-oregon",
   "metadata": {},
   "outputs": [],
   "source": []
  }
 ],
 "metadata": {
  "kernelspec": {
   "display_name": "Python 3",
   "language": "python",
   "name": "python3"
  },
  "language_info": {
   "codemirror_mode": {
    "name": "ipython",
    "version": 3
   },
   "file_extension": ".py",
   "mimetype": "text/x-python",
   "name": "python",
   "nbconvert_exporter": "python",
   "pygments_lexer": "ipython3",
   "version": "3.6.9"
  }
 },
 "nbformat": 4,
 "nbformat_minor": 5
}
