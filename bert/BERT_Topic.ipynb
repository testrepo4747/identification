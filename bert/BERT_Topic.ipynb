{
 "cells": [
  {
   "cell_type": "code",
   "execution_count": null,
   "id": "sustainable-guess",
   "metadata": {
    "scrolled": true
   },
   "outputs": [],
   "source": [
    "import pandas as pd\n",
    "from bertopic import BERTopic\n",
    "\n",
    "# Check pandas version\n",
    "print(\"pandas version:\", pd.__version__)\n",
    "\n",
    "# Initialize BERTopic and print confirmation\n",
    "topic_model = BERTopic()\n",
    "print(\"BERTopic initialized successfully\")\n"
   ]
  },
  {
   "cell_type": "code",
   "execution_count": null,
   "id": "imperial-carpet",
   "metadata": {},
   "outputs": [],
   "source": [
    "# import pandas as pd\n",
    "# from bertopic import BERTopic\n",
    "from sklearn.feature_extraction.text import CountVectorizer\n",
    "\n",
    "# Load the data\n",
    "file_path = '/data_path'  # Update with the correct file path\n",
    "df = pd.read_csv(file_path)\n",
    "\n",
    "\n",
    "\n",
    "# Extract the \"clean_message\" column\n",
    "train_messages = df_pos['clean_message'].dropna().tolist()\n",
    "print(\"for Pos: \", df_pos.shape)\n",
    "\n"
   ]
  },
  {
   "cell_type": "code",
   "execution_count": null,
   "id": "endangered-crown",
   "metadata": {},
   "outputs": [],
   "source": [
    "from bertopic.representation import KeyBERTInspired\n",
    "from sentence_transformers import SentenceTransformer\n",
    "from sklearn.feature_extraction.text import ENGLISH_STOP_WORDS, CountVectorizer\n",
    "\n",
    "# Load BERT-large-uncased model for embeddings\n",
    "embedding_model = SentenceTransformer('sentence-transformers/stsb-bert-large')\n",
    "\n",
    "\n",
    "# Define custom stop words and vectorizer\n",
    "# custom_stop_words = ['am','app','window','create','method','allow','option','string','name','data','website','type','click','line','don','added','object','snell','record','form','widget','list','module','E','editor','js','ben','view','web','M snell','Noordhuis','James','M','closes','message','node','value','update','error','Â','odoo','close','PR','field','URL','call','differential','revision','summary','time','instead','fbshipit','source','Revision','thread','now','cache','code','using','build','make','user','may','read','driver','file','email','E mail','mail','changes','event','nougat','lollipop','mr1','tests','used','marshmallow','values','size','set','device','reviewed','function','new','case','s','check','S','kernel','cc','test','CTS','dev','cts','use','ID','use','id','add','will','remove','commit', 'change','changeid', 'merge', 'pull', 'request', 'from', 'bhack','by', 'commitid', 'signed']\n",
    "\n",
    "custom_stop_words = ['am','update','URL','call','differential','revision','summary','time','instead','fbshipit','source','Revision','thread','now','cache','code','using','build','make','user','may','read','driver','file','email','E mail','mail','changes','event','nougat','lollipop','mr1','tests','used','marshmallow','values','size','set','device','reviewed','function','new','case','s','check','S','kernel','cc','test','CTS','dev','cts','use','ID','use','id','add','will','remove','commit', 'change','changeid', 'merge', 'pull', 'request', 'from', 'bhack','by', 'commitid', 'signed']\n",
    "\n",
    "custom_stop_words = ['docs','error','support','doc','documentation','log','IPv4LL','assignments','KEY','man','message','label','doesn','state','Dell','core','sd','let','data','properties','t','empty','example','RUNTIME','DIR','proof','value','makes','files','dhcp','client','allow',\"don\",'transaction','restart','service','until','need','udev','path','journald','jounral','systemd','added','close','IMP','odoo','bzr','revid','PR','E','am','update','URL','call','fixe','CVE','fix','differential','revision','summary','time','instead','fbshipit','source','Revision','thread','now','cache','code','using','build','make','user','may','read','driver','file','email','E mail','mail','changes','event','nougat','lollipop','mr1','tests','used','marshmallow','values','size','set','device','reviewed','function','new','case','s','check','S','kernel','cc','test','CTS','dev','cts','use','ID','use','id','add','will','remove','commit', 'change','changeid', 'merge', 'pull', 'request', 'from', 'bhack','by', 'commitid', 'signed']\n",
    "custom_stop_words = ['themehosttest','testholothemes','version','run','cpu','x86','usb','revert','not','for','do','type','default','Move','string','ff','work','pulled','variable','frame','branch','option','git','pack','window','docs','support','doc','documentation','log','IPv4LL','assignments','KEY','man','message','label','doesn','state','Dell','core','sd','let','data','properties','t','empty','example','RUNTIME','DIR','proof','value','makes','files','dhcp','client','allow',\"don\",'transaction','restart','service','until','need','udev','path','journald','jounral','systemd','added','close','IMP','odoo','bzr','revid','PR','E','am','update','URL','call','fixe','differential','revision','summary','time','instead','fbshipit','source','Revision','thread','now','cache','code','using','build','make','user','may','read','driver','file','email','E mail','mail','changes','event','nougat','lollipop','mr1','tests','used','marshmallow','values','size','set','device','reviewed','function','new','case','s','check','S','kernel','cc','test','CTS','dev','cts','use','ID','use','id','add','will','remove','commit', 'change','changeid', 'merge', 'pull', 'request', 'from', 'bhack','by', 'commitid', 'signed']\n",
    "\n",
    "# Combine custom stop words with English stop words\n",
    "stop_words = list(ENGLISH_STOP_WORDS) + custom_stop_words\n",
    "vectorizer_model = CountVectorizer(stop_words=stop_words, ngram_range=(1, 3))\n"
   ]
  },
  {
   "cell_type": "code",
   "execution_count": null,
   "id": "illegal-auckland",
   "metadata": {},
   "outputs": [],
   "source": [
    "\n",
    "# Initialize KeyBERTInspired for fine-tuning topic representations\n",
    "representation_model = KeyBERTInspired()\n",
    "\n",
    "# Initialize BERTopic with custom parameters and representation model\n",
    "topic_model = BERTopic(\n",
    "    vectorizer_model=vectorizer_model,\n",
    "    embedding_model=embedding_model,\n",
    "    min_topic_size=10,  # Adjust based on your data\n",
    "    nr_topics=10,       # Adjust to desired number of topics\n",
    "    representation_model=representation_model\n",
    ")\n",
    "\n",
    "\n",
    "\n",
    "# Fit the model on the data\n",
    "topics, probabilities = topic_model.fit_transform(train_messages)\n",
    "\n",
    "# Save the model\n",
    "topic_model.save(\"./saved_topic_models/bertopic_model\")\n",
    "\n",
    "# Get the topic information\n",
    "topic_info = topic_model.get_topic_info()\n",
    "\n",
    "# Display the top 10 topics\n",
    "top_10_topics = topic_info.head(10)\n",
    "print(top_10_topics)\n",
    "\n"
   ]
  },
  {
   "cell_type": "code",
   "execution_count": null,
   "id": "southern-objective",
   "metadata": {},
   "outputs": [],
   "source": [
    "import pandas as pd\n",
    "from bertopic import BERTopic\n",
    "\n",
    "# Load the saved BERTopic model\n",
    "topic_model = BERTopic.load(\"./saved_topic_models/bertopic_model\")\n",
    "\n",
    "# Function to generate topic names\n",
    "def generate_topic_names_and_counts(topic_model, top_n_words=10):\n",
    "    topic_info = topic_model.get_topic_info()\n",
    "    topic_names = {}\n",
    "    topic_counts = {}\n",
    "    for _, row in topic_info.iterrows():\n",
    "        topic_id = row['Topic']\n",
    "        if topic_id != -1:  # Avoid processing the -1 topic\n",
    "            topic = topic_model.get_topic(topic_id)\n",
    "            if topic:\n",
    "                top_words = [word for word, _ in topic[:top_n_words]]\n",
    "                topic_name = \" \".join(top_words)\n",
    "                topic_names[topic_id] = topic_name\n",
    "                topic_counts[topic_id] = row['Count']\n",
    "    return topic_names, topic_counts\n",
    "\n",
    "# Generate topic names and counts\n",
    "topic_names, topic_counts = generate_topic_names_and_counts(topic_model)\n",
    "\n",
    "# Print topic names and counts\n",
    "print(\"Topic Names and Counts:\")\n",
    "for topic_id in topic_names:\n",
    "    print(f\"Topic {topic_id}: {topic_names[topic_id]} (Count: {topic_counts[topic_id]})\")\n",
    "\n",
    "   "
   ]
  },
  {
   "cell_type": "code",
   "execution_count": null,
   "id": "prostate-candle",
   "metadata": {},
   "outputs": [],
   "source": []
  }
 ],
 "metadata": {
  "kernelspec": {
   "display_name": "bert_topic",
   "language": "python",
   "name": "bert_topic"
  },
  "language_info": {
   "codemirror_mode": {
    "name": "ipython",
    "version": 3
   },
   "file_extension": ".py",
   "mimetype": "text/x-python",
   "name": "python",
   "nbconvert_exporter": "python",
   "pygments_lexer": "ipython3",
   "version": "3.8.0"
  }
 },
 "nbformat": 4,
 "nbformat_minor": 5
}
